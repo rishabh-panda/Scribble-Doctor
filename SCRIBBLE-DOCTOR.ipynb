{
 "cells": [
  {
   "cell_type": "code",
   "execution_count": 1,
   "id": "07a79228",
   "metadata": {},
   "outputs": [
    {
     "name": "stdout",
     "output_type": "stream",
     "text": [
      "Calibrating background noise...\n",
      "Calibration successful. Prescribe!\n",
      "3 paracetamol 7 painkillers and one cough syrup\n"
     ]
    }
   ],
   "source": [
    "'''\n",
    "Rishabh Panda\n",
    "1904215 (ETC3)\n",
    "\n",
    "KIIT University, Bhubaneswar\n",
    "'''\n",
    "\n",
    "import speech_recognition as sr\n",
    "import pyttsx3\n",
    "\n",
    "# Initializing the recognizer\n",
    "recognizer = sr.Recognizer()\n",
    "\n",
    "# Function for text to speech conversion\n",
    "def Text2Speech(command):\n",
    "    # Initializing the engine\n",
    "    engine = pyttsx3.init()\n",
    "    engine.say(command)\n",
    "    engine.runAndWait()\n",
    "\n",
    "\n",
    "# Handling exceptions at the runtime\n",
    "try:\n",
    "\n",
    "    # using microphone as input source.\n",
    "    with sr.Microphone() as source2:\n",
    "\n",
    "        # Adjusting the energy threshold based on the surrounding noise level\n",
    "        print(\"Calibrating background noise...\")\n",
    "        recognizer.adjust_for_ambient_noise(source2, duration=0.2)\n",
    "        print(\"Calibration successful. Prescribe!\")\n",
    "\n",
    "        # listening user's input\n",
    "        audio2 = recognizer.listen(source2)\n",
    "\n",
    "        # Using Google Web Speech API to recognize audio\n",
    "        MyText = recognizer.recognize_google(audio2)\n",
    "        MyText = MyText.lower()\n",
    "\n",
    "        # Confirmation using text and audio\n",
    "        print(MyText)\n",
    "        Text2Speech(MyText)\n",
    "\n",
    "except sr.RequestError as e:\n",
    "    print(\"Could not request results; {0}\".format(e))\n",
    "\n",
    "except sr.UnknownValueError:\n",
    "    print(\"unknown error occurred\")"
   ]
  },
  {
   "cell_type": "code",
   "execution_count": 2,
   "id": "7eae6e45",
   "metadata": {},
   "outputs": [
    {
     "data": {
      "text/plain": [
       "''"
      ]
     },
     "execution_count": 2,
     "metadata": {},
     "output_type": "execute_result"
    }
   ],
   "source": [
    "from fpdf import FPDF\n",
    "\n",
    "# saving FPDF() class into a variable pdf\n",
    "pdf = FPDF()\n",
    "\n",
    "# Adding page\n",
    "pdf.add_page()\n",
    "\n",
    "# setting style and size of font in the pdf\n",
    "pdf.set_font(\"Arial\", size = 15)\n",
    "\n",
    "# hospital brand name\n",
    "pdf.set_fill_color(153, 255, 255)\n",
    "pdf.cell(0, 10, txt = \"PANDA'S MEDICARE SOLUTIONS\", border = 1, ln=1, align='C', fill = True)\n",
    "\n",
    "# company tagline\n",
    "pdf.set_fill_color(200, 200, 200)\n",
    "pdf.set_text_color(0, 0, 0)\n",
    "pdf.cell(0, 10, txt = '\"Healing and empowering people through technology.\"', border = 1, ln=1, align='C', fill = True)\n",
    "\n",
    "pdf.cell(0, 10, txt = \" \", ln=2, align='C')\n",
    "\n",
    "pdf.cell(0, 10, txt = \"Dr. Rishabh Panda, M.B.B.S., M.S.(Ortho.)\", ln=2, align='C')\n",
    "\n",
    "pdf.cell(0, 10, txt = \"Hyderabad, India (5000xx)\", ln=2, align='R')\n",
    "pdf.cell(0, 10, txt = \"Ph: (+91)xxx-yyyy-zz\", ln=2, align='R')\n",
    "pdf.cell(0, 10, txt = \"FAX:(207) 808 2015 2202\", ln=2, align='R')\n",
    "\n",
    "pdf.cell(0, 10, txt = \" \", ln=2, align='C')\n",
    "\n",
    "pdf.cell(0, 10, txt = \"PRESCRIPTION (Rx)\", ln=2, align='L')\n",
    "pdf.cell(0, 10, txt = \"_________________\", ln=2, align='L')\n",
    "\n",
    "pdf.cell(0, 10, txt = MyText, ln=2, align='L')\n",
    "\n",
    "# save the pdf with name.pdf\n",
    "pdf.output(\"DrPanda_presc.pdf\")"
   ]
  }
 ],
 "metadata": {
  "kernelspec": {
   "display_name": "Python 3 (ipykernel)",
   "language": "python",
   "name": "python3"
  },
  "language_info": {
   "codemirror_mode": {
    "name": "ipython",
    "version": 3
   },
   "file_extension": ".py",
   "mimetype": "text/x-python",
   "name": "python",
   "nbconvert_exporter": "python",
   "pygments_lexer": "ipython3",
   "version": "3.9.7"
  }
 },
 "nbformat": 4,
 "nbformat_minor": 5
}
